{
 "cells": [
  {
   "cell_type": "code",
   "execution_count": 3,
   "id": "e7afcaca",
   "metadata": {},
   "outputs": [
    {
     "ename": "ValueError",
     "evalue": "could not convert string to float: '0.15551710128784181491.9440460205078'",
     "output_type": "error",
     "traceback": [
      "\u001b[1;31m---------------------------------------------------------------------------\u001b[0m",
      "\u001b[1;31mValueError\u001b[0m                                Traceback (most recent call last)",
      "Input \u001b[1;32mIn [3]\u001b[0m, in \u001b[0;36m<cell line: 10>\u001b[1;34m()\u001b[0m\n\u001b[0;32m     12\u001b[0m x\u001b[38;5;241m=\u001b[39minput_data\u001b[38;5;241m.\u001b[39msplit()\n\u001b[0;32m     13\u001b[0m \u001b[38;5;66;03m#print(x)\u001b[39;00m\n\u001b[1;32m---> 14\u001b[0m screen_x, screen_y,left_1,left_2 \u001b[38;5;241m=\u001b[39m \u001b[38;5;28mfloat\u001b[39m(x[\u001b[38;5;241m0\u001b[39m]),\u001b[38;5;28mfloat\u001b[39m(x[\u001b[38;5;241m1\u001b[39m]),\u001b[38;5;28mfloat\u001b[39m(x[\u001b[38;5;241m2\u001b[39m]),\u001b[38;5;28;43mfloat\u001b[39;49m\u001b[43m(\u001b[49m\u001b[43mx\u001b[49m\u001b[43m[\u001b[49m\u001b[38;5;241;43m3\u001b[39;49m\u001b[43m]\u001b[49m\u001b[43m)\u001b[49m\n\u001b[0;32m     15\u001b[0m pyautogui\u001b[38;5;241m.\u001b[39mmoveTo(screen_x, screen_y)\n\u001b[0;32m     16\u001b[0m \u001b[38;5;28;01mif\u001b[39;00m (left_1\u001b[38;5;241m-\u001b[39mleft_2) \u001b[38;5;241m<\u001b[39m \u001b[38;5;241m0.01\u001b[39m:\n",
      "\u001b[1;31mValueError\u001b[0m: could not convert string to float: '0.15551710128784181491.9440460205078'"
     ]
    }
   ],
   "source": [
    "import socket\n",
    "import pyautogui\n",
    "\n",
    "# Set up the client socket\n",
    "client_socket = socket.socket(socket.AF_INET, socket.SOCK_STREAM)\n",
    "client_socket.connect(('192.168.1.40', 12345))  # Connect to Raspberry Pi's IP address on port 5000\n",
    "\n",
    "# Receive data from server\n",
    "while True:\n",
    "    data = client_socket.recv(1024)  # Receive data (adjust buffer size as needed)\n",
    "    input_data = data.decode()\n",
    "    x=input_data.split()\n",
    "    #print(x)\n",
    "    screen_x, screen_y,left_1,left_2 = float(x[0]),float(x[1]),float(x[2]),float(x[3])\n",
    "    pyautogui.moveTo(screen_x, screen_y)\n",
    "    if (left_1-left_2) < 0.01:\n",
    "        pyautogui.click()\n",
    "        #pyautogui.sleep(1)\n",
    "    \n",
    "\n",
    "# Close socket\n",
    "client_socket.close()"
   ]
  },
  {
   "cell_type": "code",
   "execution_count": null,
   "id": "4aa98a2d",
   "metadata": {},
   "outputs": [],
   "source": []
  }
 ],
 "metadata": {
  "kernelspec": {
   "display_name": "Python 3 (ipykernel)",
   "language": "python",
   "name": "python3"
  },
  "language_info": {
   "codemirror_mode": {
    "name": "ipython",
    "version": 3
   },
   "file_extension": ".py",
   "mimetype": "text/x-python",
   "name": "python",
   "nbconvert_exporter": "python",
   "pygments_lexer": "ipython3",
   "version": "3.9.12"
  }
 },
 "nbformat": 4,
 "nbformat_minor": 5
}
