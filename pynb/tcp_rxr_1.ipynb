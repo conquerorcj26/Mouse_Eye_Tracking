{
 "cells": [
  {
   "cell_type": "code",
   "execution_count": 1,
   "id": "ebfe9d25",
   "metadata": {},
   "outputs": [
    {
     "name": "stdout",
     "output_type": "stream",
     "text": [
      "['906.9379806518555', '400.6189978122711']\n",
      "['490.3120422363281', '504.0984284877777']\n",
      "['543.5027503967285', '557.9823446273804']\n",
      "['1283.4108352661133', '596.5231132507324']\n",
      "['1409.2586517333984', '630.1567912101746']\n",
      "['671.0908699035645', '161.12079977989197']\n",
      "['723.4925079345703', '155.41741490364075']\n",
      "['711.5945434570312', '173.7222844362259']\n",
      "['792.7526664733887', '179.96188044548035']\n",
      "['1416.229362487793', '56.64596110582352']\n",
      "['1484.8339462280273', '86.96569204330444']\n",
      "['867.0552062988281', '286.99981927871704']\n",
      "['727.3770332336426', '436.04156970977783']\n",
      "['702.2014045715332', '402.63638377189636']\n",
      "['584.6911239624023', '520.0157833099365']\n",
      "['776.8547630310059', '371.0197377204895']\n",
      "['713.6896133422852', '263.3671975135803']\n",
      "['600.2046203613281', '378.85103702545166']\n",
      "['837.9066467285156', '250.41372120380402']\n",
      "['957.8454208374023', '230.63087940216064']\n",
      "[]\n"
     ]
    },
    {
     "ename": "IndexError",
     "evalue": "list index out of range",
     "output_type": "error",
     "traceback": [
      "\u001b[1;31m---------------------------------------------------------------------------\u001b[0m",
      "\u001b[1;31mIndexError\u001b[0m                                Traceback (most recent call last)",
      "Input \u001b[1;32mIn [1]\u001b[0m, in \u001b[0;36m<cell line: 10>\u001b[1;34m()\u001b[0m\n\u001b[0;32m     12\u001b[0m x\u001b[38;5;241m=\u001b[39minput_data\u001b[38;5;241m.\u001b[39msplit()\n\u001b[0;32m     13\u001b[0m \u001b[38;5;28mprint\u001b[39m(x)\n\u001b[1;32m---> 14\u001b[0m screen_x, screen_y \u001b[38;5;241m=\u001b[39m \u001b[38;5;28mfloat\u001b[39m(\u001b[43mx\u001b[49m\u001b[43m[\u001b[49m\u001b[38;5;241;43m0\u001b[39;49m\u001b[43m]\u001b[49m),\u001b[38;5;28mfloat\u001b[39m(x[\u001b[38;5;241m1\u001b[39m])\n\u001b[0;32m     15\u001b[0m \u001b[38;5;66;03m#pyautogui.sleep(1)\u001b[39;00m\n\u001b[0;32m     16\u001b[0m pyautogui\u001b[38;5;241m.\u001b[39mmoveTo(screen_x, screen_y)\n",
      "\u001b[1;31mIndexError\u001b[0m: list index out of range"
     ]
    }
   ],
   "source": [
    "import socket\n",
    "import pyautogui\n",
    "\n",
    "# Set up the client socket\n",
    "client_socket = socket.socket(socket.AF_INET, socket.SOCK_STREAM)\n",
    "client_socket.connect(('192.168.1.40', 12345))  # Connect to Raspberry Pi's IP address on port 5000\n",
    "\n",
    "# Receive data from server\n",
    "while True:\n",
    "    data = client_socket.recv(1024)  # Receive data (adjust buffer size as needed)\n",
    "    input_data = data.decode()\n",
    "    x=input_data.split()\n",
    "    print(x)\n",
    "    screen_x, screen_y = float(x[0]),float(x[1])\n",
    "    #pyautogui.sleep(1)\n",
    "    pyautogui.moveTo(screen_x, screen_y)\n",
    "    \n",
    "\n",
    "# Close socket\n",
    "client_socket.close()"
   ]
  },
  {
   "cell_type": "code",
   "execution_count": 1,
   "id": "8546ff27",
   "metadata": {},
   "outputs": [
    {
     "name": "stdout",
     "output_type": "stream",
     "text": [
      "Enter a space-separated string: hi hi ki\n",
      "Splitted data: ['hi', 'hi', 'ki']\n"
     ]
    }
   ],
   "source": [
    "# Receive input data\n",
    "input_data = input(\"Enter a space-separated string: \")\n",
    "\n",
    "# Split the input data based on spaces\n",
    "split_data = input_data.split()\n",
    "\n",
    "# Print the result\n",
    "print(\"Splitted data:\", split_data)"
   ]
  },
  {
   "cell_type": "code",
   "execution_count": 2,
   "id": "2bbdd86b",
   "metadata": {},
   "outputs": [],
   "source": [
    "    import pyautogui\n",
    "    input_data = \"100 300\"\n",
    "    x=input_data.split()\n",
    "    screen_x, screen_y = float(x[0]),float(x[1])\n",
    "    #pyautogui.sleep(1)\n",
    "    pyautogui.moveTo(screen_x, screen_y)"
   ]
  },
  {
   "cell_type": "code",
   "execution_count": null,
   "id": "ba63af37",
   "metadata": {},
   "outputs": [],
   "source": []
  }
 ],
 "metadata": {
  "kernelspec": {
   "display_name": "Python 3 (ipykernel)",
   "language": "python",
   "name": "python3"
  },
  "language_info": {
   "codemirror_mode": {
    "name": "ipython",
    "version": 3
   },
   "file_extension": ".py",
   "mimetype": "text/x-python",
   "name": "python",
   "nbconvert_exporter": "python",
   "pygments_lexer": "ipython3",
   "version": "3.9.12"
  }
 },
 "nbformat": 4,
 "nbformat_minor": 5
}
