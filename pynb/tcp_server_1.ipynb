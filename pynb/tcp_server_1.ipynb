{
 "cells": [
  {
   "cell_type": "code",
   "execution_count": 1,
   "id": "368e2c5d",
   "metadata": {},
   "outputs": [],
   "source": [
    "import cv2\n",
    "import pyautogui\n",
    "import mediapipe as mp\n",
    "import socket"
   ]
  },
  {
   "cell_type": "code",
   "execution_count": 2,
   "id": "b65fd2ae",
   "metadata": {},
   "outputs": [
    {
     "name": "stdout",
     "output_type": "stream",
     "text": [
      "Server is listening on 0.0.0.0 port 12345\n",
      "Connection established with ('192.168.1.53', 65255)\n",
      "906.9379806518555 400.6189978122711\n",
      "490.3120422363281 504.0984284877777\n",
      "543.5027503967285 557.9823446273804\n",
      "1283.4108352661133 596.5231132507324\n",
      "1409.2586517333984 630.1567912101746\n",
      "671.0908699035645 161.12079977989197\n",
      "723.4925079345703 155.41741490364075\n",
      "711.5945434570312 173.7222844362259\n",
      "792.7526664733887 179.96188044548035\n",
      "1416.229362487793 56.64596110582352\n",
      "1484.8339462280273 86.96569204330444\n",
      "867.0552062988281 286.99981927871704\n",
      "727.3770332336426 436.04156970977783\n",
      "702.2014045715332 402.63638377189636\n",
      "584.6911239624023 520.0157833099365\n",
      "776.8547630310059 371.0197377204895\n",
      "713.6896133422852 263.3671975135803\n",
      "600.2046203613281 378.85103702545166\n",
      "837.9066467285156 250.41372120380402\n",
      "957.8454208374023 230.63087940216064\n"
     ]
    },
    {
     "ename": "KeyboardInterrupt",
     "evalue": "",
     "output_type": "error",
     "traceback": [
      "\u001b[1;31m---------------------------------------------------------------------------\u001b[0m",
      "\u001b[1;31mKeyboardInterrupt\u001b[0m                         Traceback (most recent call last)",
      "Cell \u001b[1;32mIn[2], line 19\u001b[0m\n\u001b[0;32m     16\u001b[0m \u001b[38;5;28mprint\u001b[39m(\u001b[38;5;124m\"\u001b[39m\u001b[38;5;124mConnection established with\u001b[39m\u001b[38;5;124m\"\u001b[39m, client_address)\n\u001b[0;32m     18\u001b[0m \u001b[38;5;28;01mwhile\u001b[39;00m \u001b[38;5;28;01mTrue\u001b[39;00m:\n\u001b[1;32m---> 19\u001b[0m     cam \u001b[38;5;241m=\u001b[39m cv2\u001b[38;5;241m.\u001b[39mVideoCapture(\u001b[38;5;241m0\u001b[39m)\n\u001b[0;32m     20\u001b[0m     face_mesh \u001b[38;5;241m=\u001b[39m mp\u001b[38;5;241m.\u001b[39msolutions\u001b[38;5;241m.\u001b[39mface_mesh\u001b[38;5;241m.\u001b[39mFaceMesh(refine_landmarks\u001b[38;5;241m=\u001b[39m\u001b[38;5;28;01mTrue\u001b[39;00m)\n\u001b[0;32m     21\u001b[0m     screen_w, screen_h \u001b[38;5;241m=\u001b[39m pyautogui\u001b[38;5;241m.\u001b[39msize()\n",
      "\u001b[1;31mKeyboardInterrupt\u001b[0m: "
     ]
    }
   ],
   "source": [
    "# Host and port to listen on\n",
    "host = '0.0.0.0'  # Listen on all available interfaces\n",
    "port = 12345      # Choose a port number above 1024\n",
    "\n",
    "# Create a TCP/IP socket\n",
    "server_socket = socket.socket(socket.AF_INET, socket.SOCK_STREAM)\n",
    "# Bind the socket to the address and port\n",
    "server_socket.bind((host, port))\n",
    "# Listen for incoming connections\n",
    "server_socket.listen(1)\n",
    "print(\"Server is listening on\", host, \"port\", port)\n",
    "\n",
    "# Accept incoming connection\n",
    "client_socket, client_address = server_socket.accept()\n",
    "\n",
    "print(\"Connection established with\", client_address)\n",
    "\n",
    "while True:\n",
    "    cam = cv2.VideoCapture(0)\n",
    "    face_mesh = mp.solutions.face_mesh.FaceMesh(refine_landmarks=True)\n",
    "    screen_w, screen_h = pyautogui.size()\n",
    "\n",
    "    _, frame = cam.read()\n",
    "    frame = cv2.flip(frame, 1)\n",
    "    rgb_frame = cv2.cvtColor(frame, cv2.COLOR_BGR2RGB)\n",
    "    output = face_mesh.process(rgb_frame)\n",
    "    landmark_points = output.multi_face_landmarks\n",
    "    frame_h, frame_w, _ = frame.shape\n",
    "    if landmark_points:\n",
    "        landmarks = landmark_points[0].landmark\n",
    "        for id, landmark in enumerate(landmarks[474:478]):\n",
    "            x = int(landmark.x * frame_w)\n",
    "            y = int(landmark.y * frame_h)\n",
    "            cv2.circle(frame, (x, y), 3, (0, 255, 0))\n",
    "            if id == 1:\n",
    "                screen_x = screen_w * landmark.x\n",
    "                screen_y = screen_h * landmark.y\n",
    "                processed_data = str(screen_x)+\" \"+str(screen_y)\n",
    "                print(processed_data)\n",
    "                # Send data to client\n",
    "                client_socket.sendall(processed_data.encode())\n",
    "                    #pyautogui.moveTo(screen_x, screen_y)\n",
    "                    #pyautogui.sleep(1)\n",
    "\n",
    "# Release the video capture object and close all OpenCV windows\n",
    "cam.release()\n",
    "cv2.destroyAllWindows()\n",
    "\n",
    "\n",
    "\n",
    "# Close the connection\n",
    "client_socket.close()\n",
    "server_socket.close()"
   ]
  },
  {
   "cell_type": "code",
   "execution_count": null,
   "id": "f78ff3b3",
   "metadata": {},
   "outputs": [],
   "source": []
  }
 ],
 "metadata": {
  "kernelspec": {
   "display_name": "Python 3 (ipykernel)",
   "language": "python",
   "name": "python3"
  },
  "language_info": {
   "codemirror_mode": {
    "name": "ipython",
    "version": 3
   },
   "file_extension": ".py",
   "mimetype": "text/x-python",
   "name": "python",
   "nbconvert_exporter": "python",
   "pygments_lexer": "ipython3",
   "version": "3.11.3"
  }
 },
 "nbformat": 4,
 "nbformat_minor": 5
}
